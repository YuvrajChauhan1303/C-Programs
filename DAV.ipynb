{
  "nbformat": 4,
  "nbformat_minor": 0,
  "metadata": {
    "colab": {
      "provenance": [],
      "include_colab_link": true
    },
    "kernelspec": {
      "name": "python3",
      "display_name": "Python 3"
    },
    "language_info": {
      "name": "python"
    }
  },
  "cells": [
    {
      "cell_type": "markdown",
      "metadata": {
        "id": "view-in-github",
        "colab_type": "text"
      },
      "source": [
        "<a href=\"https://colab.research.google.com/github/YuvrajChauhan1303/C-Programs/blob/main/DAV.ipynb\" target=\"_parent\"><img src=\"https://colab.research.google.com/assets/colab-badge.svg\" alt=\"Open In Colab\"/></a>"
      ]
    },
    {
      "cell_type": "code",
      "execution_count": null,
      "metadata": {
        "id": "tm4ZPRCPezZP"
      },
      "outputs": [],
      "source": [
        "import pandas as pd\n",
        "import numpy as np\n",
        "from scipy.stats import skew, kurtosis, entropy\n",
        "from scipy.signal import find_peaks, welch\n",
        "import neurokit2 as nk\n",
        "\n"
      ]
    },
    {
      "cell_type": "code",
      "source": [
        "# Step 1: Read the CSV and flatten the signal\n",
        "df = pd.read_csv(\"a01.csv\", header=None, dtype=str)\n",
        "df = df.replace(r'[^\\d\\.\\-eE]', '', regex=True)  # Remove non-numeric artifacts\n",
        "df = df.apply(pd.to_numeric, errors='coerce')   # Convert to numeric\n",
        "df = df.fillna(method='ffill', axis=1).fillna(method='bfill', axis=1)  # Forward/back fill NaNs\n",
        "ecg_data = df.values.flatten()\n",
        "\n",
        "# Sampling frequency\n",
        "fs = 100"
      ],
      "metadata": {
        "id": "fFwLCO8cu30I"
      },
      "execution_count": null,
      "outputs": []
    },
    {
      "cell_type": "code",
      "source": [
        "# Step 2: Clean ECG and extract features\n",
        "signals, info = nk.ecg_process(ecg_data, sampling_rate=fs)\n",
        "rpeaks = info['ECG_R_Peaks']\n",
        "rr_intervals = np.diff(rpeaks) / fs\n",
        "hr = 60 / rr_intervals"
      ],
      "metadata": {
        "id": "7dLmi6jbu509"
      },
      "execution_count": null,
      "outputs": []
    },
    {
      "cell_type": "code",
      "source": [
        "\n",
        "\n",
        "# Time-domain features\n",
        "features = {\n",
        "    \"Mean\": np.mean(ecg_data),\n",
        "    \"Std\": np.std(ecg_data),\n",
        "    \"Var\": np.var(ecg_data),\n",
        "    \"Median\": np.median(ecg_data),\n",
        "    \"Min\": np.min(ecg_data),\n",
        "    \"Max\": np.max(ecg_data),\n",
        "    \"Range\": np.max(ecg_data) - np.min(ecg_data),\n",
        "    \"Q1\": np.percentile(ecg_data, 25),\n",
        "    \"Q3\": np.percentile(ecg_data, 75),\n",
        "    \"IQR\": np.percentile(ecg_data, 75) - np.percentile(ecg_data, 25),\n",
        "    \"Skewness\": skew(ecg_data),\n",
        "    \"Kurtosis\": kurtosis(ecg_data),\n",
        "    \"RMS\": np.sqrt(np.mean(np.square(ecg_data))),\n",
        "    \"Zero_Crossings\": ((ecg_data[:-1] * ecg_data[1:]) < 0).sum(),\n",
        "    \"Signal_Energy\": np.sum(ecg_data ** 2),\n",
        "    \"Signal_Entropy\": entropy(np.histogram(ecg_data, bins=50, density=True)[0]),\n",
        "    \"Mean_Absolute_Diff\": np.mean(np.abs(np.diff(ecg_data))),\n",
        "    \"STD_Absolute_Diff\": np.std(np.abs(np.diff(ecg_data))),\n",
        "    \"Symmetry_Index\": np.mean(ecg_data[:len(ecg_data)//2]) - np.mean(ecg_data[len(ecg_data)//2:]),\n",
        "}\n",
        "\n",
        "# Frequency-domain features using Welch's method\n",
        "frequencies, power = welch(ecg_data, fs, nperseg=1024)\n",
        "features.update({\n",
        "    \"Total_Power\": np.trapz(power, frequencies),\n",
        "    \"VLF_Power\": np.trapz(power[(frequencies >= 0.003) & (frequencies < 0.04)], frequencies[(frequencies >= 0.003) & (frequencies < 0.04)]),\n",
        "    \"LF_Power\": np.trapz(power[(frequencies >= 0.04) & (frequencies < 0.15)], frequencies[(frequencies >= 0.04) & (frequencies < 0.15)]),\n",
        "    \"HF_Power\": np.trapz(power[(frequencies >= 0.15) & (frequencies < 0.4)], frequencies[(frequencies >= 0.15) & (frequencies < 0.4)]),\n",
        "})\n",
        "\n",
        "# LF/HF Ratio\n",
        "lf = features[\"LF_Power\"]\n",
        "hf = features[\"HF_Power\"]\n",
        "features[\"LF_HF_Ratio\"] = lf / hf if hf != 0 else np.nan\n",
        "\n",
        "# HRV features\n",
        "features.update({\n",
        "    \"Num_Beats\": len(rpeaks),\n",
        "    \"Mean_RR\": np.mean(rr_intervals),\n",
        "    \"STD_RR\": np.std(rr_intervals),\n",
        "    \"Min_RR\": np.min(rr_intervals),\n",
        "    \"Max_RR\": np.max(rr_intervals),\n",
        "    \"Mean_HR\": np.mean(hr),\n",
        "    \"SDNN\": np.std(rr_intervals),\n",
        "    \"RMSSD\": np.sqrt(np.mean(np.square(np.diff(rr_intervals)))),\n",
        "    \"NN50\": np.sum(np.abs(np.diff(rr_intervals)) > 0.05),\n",
        "    \"pNN50\": np.sum(np.abs(np.diff(rr_intervals)) > 0.05) / len(rr_intervals) * 100,\n",
        "})\n",
        "\n",
        "# Save features to CSV\n",
        "features_df = pd.DataFrame([features])\n",
        "features_df.to_csv(\"extracted_ecg_features.csv\", index=False)\n",
        "print(\"✅ Features extracted and saved to 'extracted_ecg_features.csv'\")\n"
      ],
      "metadata": {
        "id": "liEAbcHvu0gl"
      },
      "execution_count": null,
      "outputs": []
    }
  ]
}